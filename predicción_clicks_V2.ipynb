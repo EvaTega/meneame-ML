{
 "cells": [
  {
   "cell_type": "markdown",
   "metadata": {},
   "source": [
    "Tras el fracaso del primer intento, tomamos las siguientes decisiones:\n",
    "\n",
    "- Eliminar outliers.\n",
    "- Clasificar la columna \"Delay\" en 5 categorías para reducir la cantidad de datos que tenemos.\n",
    "- Eliminar las columnas \"Positivos\" y \"Anonimos\" puesto que la columna \"Meneos\" es la suma de ambas."
   ]
  },
  {
   "cell_type": "code",
   "execution_count": 17,
   "metadata": {},
   "outputs": [],
   "source": [
    "import pandas as pd\n",
    "import numpy as np\n",
    "import matplotlib.pyplot as plt\n",
    "import seaborn as sns\n",
    "import plotly.express as px\n",
    "\n",
    "# Preprocessing\n",
    "from sklearn.preprocessing import MinMaxScaler\n",
    "\n",
    "# Train, Test\n",
    "from sklearn.model_selection import train_test_split\n",
    "\n",
    "# Preprocessing\n",
    "from sklearn.preprocessing import MinMaxScaler\n",
    "\n",
    "# Train, Test\n",
    "from sklearn.model_selection import train_test_split\n",
    "\n",
    "# Metricas para regresiones\n",
    "from sklearn.metrics import mean_absolute_error, mean_squared_error, r2_score\n",
    "\n",
    "# Regresores\n",
    "from sklearn.linear_model import LinearRegression\n",
    "from sklearn.neighbors import KNeighborsRegressor, RadiusNeighborsRegressor\n",
    "from sklearn.tree import DecisionTreeRegressor\n",
    "from sklearn.ensemble import RandomForestRegressor, GradientBoostingRegressor, AdaBoostRegressor\n",
    "from sklearn.svm import SVR"
   ]
  },
  {
   "cell_type": "code",
   "execution_count": 2,
   "metadata": {},
   "outputs": [
    {
     "data": {
      "text/html": [
       "<div>\n",
       "<style scoped>\n",
       "    .dataframe tbody tr th:only-of-type {\n",
       "        vertical-align: middle;\n",
       "    }\n",
       "\n",
       "    .dataframe tbody tr th {\n",
       "        vertical-align: top;\n",
       "    }\n",
       "\n",
       "    .dataframe thead th {\n",
       "        text-align: right;\n",
       "    }\n",
       "</style>\n",
       "<table border=\"1\" class=\"dataframe\">\n",
       "  <thead>\n",
       "    <tr style=\"text-align: right;\">\n",
       "      <th></th>\n",
       "      <th>Titular</th>\n",
       "      <th>Medio</th>\n",
       "      <th>URL</th>\n",
       "      <th>Enviado</th>\n",
       "      <th>Publicado</th>\n",
       "      <th>Meneos</th>\n",
       "      <th>Clicks</th>\n",
       "      <th>Positivos</th>\n",
       "      <th>Anonimos</th>\n",
       "      <th>Negativos</th>\n",
       "      <th>Comentarios</th>\n",
       "      <th>Karma</th>\n",
       "    </tr>\n",
       "  </thead>\n",
       "  <tbody>\n",
       "    <tr>\n",
       "      <th>0</th>\n",
       "      <td>Que arresten a los líderes de Israel por críme...</td>\n",
       "      <td>ctxt.es</td>\n",
       "      <td>https://old.meneame.net/story/arresten-lideres...</td>\n",
       "      <td>1715371648.0</td>\n",
       "      <td>1715379303.0</td>\n",
       "      <td>81</td>\n",
       "      <td>111.0</td>\n",
       "      <td>51.0</td>\n",
       "      <td>30.0</td>\n",
       "      <td>4.0</td>\n",
       "      <td>11.0</td>\n",
       "      <td>463.0</td>\n",
       "    </tr>\n",
       "    <tr>\n",
       "      <th>1</th>\n",
       "      <td>El pelotazo de los curas salesianos con una pi...</td>\n",
       "      <td>elsaltodiario.com</td>\n",
       "      <td>https://old.meneame.net/story/pelotazo-curas-s...</td>\n",
       "      <td>1715367709.0</td>\n",
       "      <td>1715377802.0</td>\n",
       "      <td>73</td>\n",
       "      <td>336.0</td>\n",
       "      <td>43.0</td>\n",
       "      <td>30.0</td>\n",
       "      <td>3.0</td>\n",
       "      <td>20.0</td>\n",
       "      <td>441.0</td>\n",
       "    </tr>\n",
       "    <tr>\n",
       "      <th>2</th>\n",
       "      <td>Países Bajos no participa en el segundo ensayo...</td>\n",
       "      <td>hoy.es</td>\n",
       "      <td>https://old.meneame.net/story/paises-bajos-no-...</td>\n",
       "      <td>1715374020.0</td>\n",
       "      <td>1715375703.0</td>\n",
       "      <td>123</td>\n",
       "      <td>1275.0</td>\n",
       "      <td>72.0</td>\n",
       "      <td>51.0</td>\n",
       "      <td>3.0</td>\n",
       "      <td>39.0</td>\n",
       "      <td>460.0</td>\n",
       "    </tr>\n",
       "  </tbody>\n",
       "</table>\n",
       "</div>"
      ],
      "text/plain": [
       "                                             Titular              Medio  \\\n",
       "0  Que arresten a los líderes de Israel por críme...            ctxt.es   \n",
       "1  El pelotazo de los curas salesianos con una pi...  elsaltodiario.com   \n",
       "2  Países Bajos no participa en el segundo ensayo...             hoy.es   \n",
       "\n",
       "                                                 URL       Enviado  \\\n",
       "0  https://old.meneame.net/story/arresten-lideres...  1715371648.0   \n",
       "1  https://old.meneame.net/story/pelotazo-curas-s...  1715367709.0   \n",
       "2  https://old.meneame.net/story/paises-bajos-no-...  1715374020.0   \n",
       "\n",
       "      Publicado  Meneos  Clicks  Positivos  Anonimos  Negativos  Comentarios  \\\n",
       "0  1715379303.0      81   111.0       51.0      30.0        4.0         11.0   \n",
       "1  1715377802.0      73   336.0       43.0      30.0        3.0         20.0   \n",
       "2  1715375703.0     123  1275.0       72.0      51.0        3.0         39.0   \n",
       "\n",
       "   Karma  \n",
       "0  463.0  \n",
       "1  441.0  \n",
       "2  460.0  "
      ]
     },
     "execution_count": 2,
     "metadata": {},
     "output_type": "execute_result"
    }
   ],
   "source": [
    "df = pd.read_csv(\"Data/MeneosCompleto.csv\", delimiter=\";\")\n",
    "\n",
    "pd.set_option(\"display.precision\", 7)\n",
    "\n",
    "df.head(3)"
   ]
  },
  {
   "cell_type": "code",
   "execution_count": 3,
   "metadata": {},
   "outputs": [],
   "source": [
    "def limpieza_datos(df):\n",
    "    #Limpieza de duplicados\n",
    "    df.drop_duplicates()\n",
    "\n",
    "    #Elimina las filas con valores NaN de las columnas que no son Clicks.\n",
    "    lista_columnas = df.columns.to_list()\n",
    "    lista_columnas.remove(\"Clicks\")\n",
    "\n",
    "    for columna in lista_columnas:\n",
    "        lista_indices = df[df[columna].isna() == True].index.tolist()\n",
    "        df = df.drop(index = lista_indices)\n",
    "\n",
    "    # Creamos la columna delay que es el tiempo que transcurre entre que se envía el meneo y se publica\n",
    "    df[\"Delay\"] = df[\"Publicado\"] - df[\"Enviado\"]\n",
    "\n",
    "    #Categorización de la columna Delay\n",
    "    def delay(x):\n",
    "        if x < 1:\n",
    "            return(\"Menos de 1 hora\")\n",
    "        elif 1 <= x < 3:\n",
    "            return(\"Entre 1 y 3 horas\")\n",
    "        elif 3 <= x < 6:\n",
    "            return(\"Entre 3 y 6 horas\")\n",
    "        elif 6 <= x < 9:\n",
    "            return(\"Entre 6 y 9 horas\")\n",
    "        else:\n",
    "            return(\"Más de 9 horas\")\n",
    "        \n",
    "    df[\"Delay_horas\"] = df[\"Delay\"]/3600\n",
    "        \n",
    "    df[\"Delay_horas\"] = df[\"Delay_horas\"].apply(lambda x: delay(x))\n",
    "    \n",
    "    #Eliminación de columnas innecesarias\n",
    "    df = df.drop(columns=[\"Medio\", \"Positivos\", \"Anonimos\", \"Delay\"], axis=1)\n",
    "    \n",
    "    # Separamos nuestro dataframe en uno de train, test y otro de predicción\n",
    "    df_tt = df[df[\"Clicks\"].isna() == False]\n",
    "\n",
    "    df_pred = df[df[\"Clicks\"].isna() == True]\n",
    "    df_pred.to_csv(\"Data/Datos_Pred.csv\", index=False)\n",
    "\n",
    "    # Eliminación de outliers\n",
    "    df_tt = df_tt[df_tt[\"Meneos\"].between(50, 3000)]\n",
    "    df_tt = df_tt[df_tt[\"Negativos\"] <= 13]\n",
    "    df_tt = df_tt[df_tt[\"Comentarios\"].between(10, 150)]\n",
    "    df_tt = df_tt[df_tt[\"Karma\"].between(230, 700)]\n",
    "    df_tt = df_tt[df_tt[\"Clicks\"].between(263, 37946)]\n",
    "\n",
    "    # Guardamos nuestro dataframe de train, test\n",
    "    df_tt.to_csv(\"Data/Datos_TrainTest.csv\", index=False)\n",
    "    \n",
    "    return(df_tt)"
   ]
  },
  {
   "cell_type": "code",
   "execution_count": 4,
   "metadata": {},
   "outputs": [],
   "source": [
    "df_tt = limpieza_datos(df)"
   ]
  },
  {
   "cell_type": "code",
   "execution_count": 5,
   "metadata": {},
   "outputs": [
    {
     "name": "stdout",
     "output_type": "stream",
     "text": [
      "<class 'pandas.core.frame.DataFrame'>\n",
      "RangeIndex: 274376 entries, 0 to 274375\n",
      "Data columns (total 12 columns):\n",
      " #   Column       Non-Null Count   Dtype  \n",
      "---  ------       --------------   -----  \n",
      " 0   Titular      274373 non-null  object \n",
      " 1   Medio        274376 non-null  object \n",
      " 2   URL          274367 non-null  object \n",
      " 3   Enviado      274370 non-null  float64\n",
      " 4   Publicado    274370 non-null  float64\n",
      " 5   Meneos       274376 non-null  int64  \n",
      " 6   Clicks       193678 non-null  float64\n",
      " 7   Positivos    274369 non-null  float64\n",
      " 8   Anonimos     274369 non-null  float64\n",
      " 9   Negativos    274369 non-null  float64\n",
      " 10  Comentarios  274367 non-null  float64\n",
      " 11  Karma        274369 non-null  float64\n",
      "dtypes: float64(8), int64(1), object(3)\n",
      "memory usage: 25.1+ MB\n"
     ]
    }
   ],
   "source": [
    "df.info()"
   ]
  },
  {
   "cell_type": "code",
   "execution_count": 6,
   "metadata": {},
   "outputs": [
    {
     "data": {
      "text/plain": [
       "(274376, 12)"
      ]
     },
     "execution_count": 6,
     "metadata": {},
     "output_type": "execute_result"
    }
   ],
   "source": [
    "df.shape"
   ]
  },
  {
   "cell_type": "code",
   "execution_count": 7,
   "metadata": {},
   "outputs": [
    {
     "data": {
      "text/html": [
       "<div>\n",
       "<style scoped>\n",
       "    .dataframe tbody tr th:only-of-type {\n",
       "        vertical-align: middle;\n",
       "    }\n",
       "\n",
       "    .dataframe tbody tr th {\n",
       "        vertical-align: top;\n",
       "    }\n",
       "\n",
       "    .dataframe thead th {\n",
       "        text-align: right;\n",
       "    }\n",
       "</style>\n",
       "<table border=\"1\" class=\"dataframe\">\n",
       "  <thead>\n",
       "    <tr style=\"text-align: right;\">\n",
       "      <th></th>\n",
       "      <th>Titular</th>\n",
       "      <th>Medio</th>\n",
       "      <th>URL</th>\n",
       "      <th>Enviado</th>\n",
       "      <th>Publicado</th>\n",
       "      <th>Meneos</th>\n",
       "      <th>Clicks</th>\n",
       "      <th>Positivos</th>\n",
       "      <th>Anonimos</th>\n",
       "      <th>Negativos</th>\n",
       "      <th>Comentarios</th>\n",
       "      <th>Karma</th>\n",
       "    </tr>\n",
       "  </thead>\n",
       "  <tbody>\n",
       "    <tr>\n",
       "      <th>0</th>\n",
       "      <td>Que arresten a los líderes de Israel por críme...</td>\n",
       "      <td>ctxt.es</td>\n",
       "      <td>https://old.meneame.net/story/arresten-lideres...</td>\n",
       "      <td>1715371648.0</td>\n",
       "      <td>1715379303.0</td>\n",
       "      <td>81</td>\n",
       "      <td>111.0</td>\n",
       "      <td>51.0</td>\n",
       "      <td>30.0</td>\n",
       "      <td>4.0</td>\n",
       "      <td>11.0</td>\n",
       "      <td>463.0</td>\n",
       "    </tr>\n",
       "    <tr>\n",
       "      <th>1</th>\n",
       "      <td>El pelotazo de los curas salesianos con una pi...</td>\n",
       "      <td>elsaltodiario.com</td>\n",
       "      <td>https://old.meneame.net/story/pelotazo-curas-s...</td>\n",
       "      <td>1715367709.0</td>\n",
       "      <td>1715377802.0</td>\n",
       "      <td>73</td>\n",
       "      <td>336.0</td>\n",
       "      <td>43.0</td>\n",
       "      <td>30.0</td>\n",
       "      <td>3.0</td>\n",
       "      <td>20.0</td>\n",
       "      <td>441.0</td>\n",
       "    </tr>\n",
       "    <tr>\n",
       "      <th>2</th>\n",
       "      <td>Países Bajos no participa en el segundo ensayo...</td>\n",
       "      <td>hoy.es</td>\n",
       "      <td>https://old.meneame.net/story/paises-bajos-no-...</td>\n",
       "      <td>1715374020.0</td>\n",
       "      <td>1715375703.0</td>\n",
       "      <td>123</td>\n",
       "      <td>1275.0</td>\n",
       "      <td>72.0</td>\n",
       "      <td>51.0</td>\n",
       "      <td>3.0</td>\n",
       "      <td>39.0</td>\n",
       "      <td>460.0</td>\n",
       "    </tr>\n",
       "    <tr>\n",
       "      <th>3</th>\n",
       "      <td>Todos los israelíes están entrenados en hasbar...</td>\n",
       "      <td>reddit.com</td>\n",
       "      <td>https://old.meneame.net/story/todos-israelies-...</td>\n",
       "      <td>1715361389.0</td>\n",
       "      <td>1715375102.0</td>\n",
       "      <td>117</td>\n",
       "      <td>1256.0</td>\n",
       "      <td>69.0</td>\n",
       "      <td>48.0</td>\n",
       "      <td>5.0</td>\n",
       "      <td>24.0</td>\n",
       "      <td>410.0</td>\n",
       "    </tr>\n",
       "    <tr>\n",
       "      <th>4</th>\n",
       "      <td>Cuando Einstein llamó “fascistas” a los gobern...</td>\n",
       "      <td>cadtm.org</td>\n",
       "      <td>https://old.meneame.net/story/cuando-einstein-...</td>\n",
       "      <td>1715346981.0</td>\n",
       "      <td>1715373609.0</td>\n",
       "      <td>260</td>\n",
       "      <td>415.0</td>\n",
       "      <td>139.0</td>\n",
       "      <td>121.0</td>\n",
       "      <td>2.0</td>\n",
       "      <td>17.0</td>\n",
       "      <td>461.0</td>\n",
       "    </tr>\n",
       "    <tr>\n",
       "      <th>...</th>\n",
       "      <td>...</td>\n",
       "      <td>...</td>\n",
       "      <td>...</td>\n",
       "      <td>...</td>\n",
       "      <td>...</td>\n",
       "      <td>...</td>\n",
       "      <td>...</td>\n",
       "      <td>...</td>\n",
       "      <td>...</td>\n",
       "      <td>...</td>\n",
       "      <td>...</td>\n",
       "      <td>...</td>\n",
       "    </tr>\n",
       "    <tr>\n",
       "      <th>274371</th>\n",
       "      <td>Instalar Linux en iPod Mini | GPL Tarragona</td>\n",
       "      <td>gpltarragona.org</td>\n",
       "      <td>https://old.meneame.net/story/instalar-linux-e...</td>\n",
       "      <td>1133950966.0</td>\n",
       "      <td>1133953201.0</td>\n",
       "      <td>29</td>\n",
       "      <td>NaN</td>\n",
       "      <td>29.0</td>\n",
       "      <td>0.0</td>\n",
       "      <td>0.0</td>\n",
       "      <td>0.0</td>\n",
       "      <td>31.0</td>\n",
       "    </tr>\n",
       "    <tr>\n",
       "      <th>274372</th>\n",
       "      <td>Entrevista de El Mundo a Jose Antonio Marina</td>\n",
       "      <td>el-mundo.es</td>\n",
       "      <td>https://old.meneame.net/story/entrevista-de-el...</td>\n",
       "      <td>1133946888.0</td>\n",
       "      <td>1133951401.0</td>\n",
       "      <td>18</td>\n",
       "      <td>NaN</td>\n",
       "      <td>18.0</td>\n",
       "      <td>0.0</td>\n",
       "      <td>0.0</td>\n",
       "      <td>0.0</td>\n",
       "      <td>22.0</td>\n",
       "    </tr>\n",
       "    <tr>\n",
       "      <th>274373</th>\n",
       "      <td>Prova xfce 4.2.3!</td>\n",
       "      <td>xfce.org</td>\n",
       "      <td>https://old.meneame.net/story/prova-xfce-423</td>\n",
       "      <td>1133945900.0</td>\n",
       "      <td>1133947801.0</td>\n",
       "      <td>34</td>\n",
       "      <td>NaN</td>\n",
       "      <td>34.0</td>\n",
       "      <td>0.0</td>\n",
       "      <td>0.0</td>\n",
       "      <td>0.0</td>\n",
       "      <td>13.0</td>\n",
       "    </tr>\n",
       "    <tr>\n",
       "      <th>274374</th>\n",
       "      <td>Los 84 errores de noxtrum</td>\n",
       "      <td>pacoros.net</td>\n",
       "      <td>https://old.meneame.net/story/los-84-errores-d...</td>\n",
       "      <td>1133943563.0</td>\n",
       "      <td>1133943902.0</td>\n",
       "      <td>61</td>\n",
       "      <td>NaN</td>\n",
       "      <td>61.0</td>\n",
       "      <td>0.0</td>\n",
       "      <td>0.0</td>\n",
       "      <td>5.0</td>\n",
       "      <td>11.0</td>\n",
       "    </tr>\n",
       "    <tr>\n",
       "      <th>274375</th>\n",
       "      <td>Ésta es la primera noticia meneada</td>\n",
       "      <td>mnm.uib.es</td>\n",
       "      <td>https://old.meneame.net/story/esta-primera-not...</td>\n",
       "      <td>1133928253.0</td>\n",
       "      <td>1133928456.0</td>\n",
       "      <td>246</td>\n",
       "      <td>NaN</td>\n",
       "      <td>246.0</td>\n",
       "      <td>0.0</td>\n",
       "      <td>0.0</td>\n",
       "      <td>21.0</td>\n",
       "      <td>11.0</td>\n",
       "    </tr>\n",
       "  </tbody>\n",
       "</table>\n",
       "<p>274373 rows × 12 columns</p>\n",
       "</div>"
      ],
      "text/plain": [
       "                                                  Titular              Medio  \\\n",
       "0       Que arresten a los líderes de Israel por críme...            ctxt.es   \n",
       "1       El pelotazo de los curas salesianos con una pi...  elsaltodiario.com   \n",
       "2       Países Bajos no participa en el segundo ensayo...             hoy.es   \n",
       "3       Todos los israelíes están entrenados en hasbar...         reddit.com   \n",
       "4       Cuando Einstein llamó “fascistas” a los gobern...          cadtm.org   \n",
       "...                                                   ...                ...   \n",
       "274371        Instalar Linux en iPod Mini | GPL Tarragona   gpltarragona.org   \n",
       "274372       Entrevista de El Mundo a Jose Antonio Marina        el-mundo.es   \n",
       "274373                                  Prova xfce 4.2.3!           xfce.org   \n",
       "274374                          Los 84 errores de noxtrum        pacoros.net   \n",
       "274375                 Ésta es la primera noticia meneada         mnm.uib.es   \n",
       "\n",
       "                                                      URL       Enviado  \\\n",
       "0       https://old.meneame.net/story/arresten-lideres...  1715371648.0   \n",
       "1       https://old.meneame.net/story/pelotazo-curas-s...  1715367709.0   \n",
       "2       https://old.meneame.net/story/paises-bajos-no-...  1715374020.0   \n",
       "3       https://old.meneame.net/story/todos-israelies-...  1715361389.0   \n",
       "4       https://old.meneame.net/story/cuando-einstein-...  1715346981.0   \n",
       "...                                                   ...           ...   \n",
       "274371  https://old.meneame.net/story/instalar-linux-e...  1133950966.0   \n",
       "274372  https://old.meneame.net/story/entrevista-de-el...  1133946888.0   \n",
       "274373       https://old.meneame.net/story/prova-xfce-423  1133945900.0   \n",
       "274374  https://old.meneame.net/story/los-84-errores-d...  1133943563.0   \n",
       "274375  https://old.meneame.net/story/esta-primera-not...  1133928253.0   \n",
       "\n",
       "           Publicado  Meneos  Clicks  Positivos  Anonimos  Negativos  \\\n",
       "0       1715379303.0      81   111.0       51.0      30.0        4.0   \n",
       "1       1715377802.0      73   336.0       43.0      30.0        3.0   \n",
       "2       1715375703.0     123  1275.0       72.0      51.0        3.0   \n",
       "3       1715375102.0     117  1256.0       69.0      48.0        5.0   \n",
       "4       1715373609.0     260   415.0      139.0     121.0        2.0   \n",
       "...              ...     ...     ...        ...       ...        ...   \n",
       "274371  1133953201.0      29     NaN       29.0       0.0        0.0   \n",
       "274372  1133951401.0      18     NaN       18.0       0.0        0.0   \n",
       "274373  1133947801.0      34     NaN       34.0       0.0        0.0   \n",
       "274374  1133943902.0      61     NaN       61.0       0.0        0.0   \n",
       "274375  1133928456.0     246     NaN      246.0       0.0        0.0   \n",
       "\n",
       "        Comentarios  Karma  \n",
       "0              11.0  463.0  \n",
       "1              20.0  441.0  \n",
       "2              39.0  460.0  \n",
       "3              24.0  410.0  \n",
       "4              17.0  461.0  \n",
       "...             ...    ...  \n",
       "274371          0.0   31.0  \n",
       "274372          0.0   22.0  \n",
       "274373          0.0   13.0  \n",
       "274374          5.0   11.0  \n",
       "274375         21.0   11.0  \n",
       "\n",
       "[274373 rows x 12 columns]"
      ]
     },
     "execution_count": 7,
     "metadata": {},
     "output_type": "execute_result"
    }
   ],
   "source": [
    "#Empezamos eliminando duplicados\n",
    "df.drop_duplicates()"
   ]
  },
  {
   "cell_type": "code",
   "execution_count": 8,
   "metadata": {},
   "outputs": [
    {
     "data": {
      "text/plain": [
       "Titular            3\n",
       "Medio              0\n",
       "URL                9\n",
       "Enviado            6\n",
       "Publicado          6\n",
       "Meneos             0\n",
       "Clicks         80698\n",
       "Positivos          7\n",
       "Anonimos           7\n",
       "Negativos          7\n",
       "Comentarios        9\n",
       "Karma              7\n",
       "dtype: int64"
      ]
     },
     "execution_count": 8,
     "metadata": {},
     "output_type": "execute_result"
    }
   ],
   "source": [
    "df.isna().sum()"
   ]
  },
  {
   "cell_type": "code",
   "execution_count": 9,
   "metadata": {},
   "outputs": [
    {
     "data": {
      "text/plain": [
       "(274376, 12)"
      ]
     },
     "execution_count": 9,
     "metadata": {},
     "output_type": "execute_result"
    }
   ],
   "source": [
    "df.shape"
   ]
  },
  {
   "cell_type": "code",
   "execution_count": 10,
   "metadata": {},
   "outputs": [],
   "source": [
    "#Eliminamos las filas con valores NaN de las columnas que no son Clicks.\n",
    "\n",
    "lista_columnas = df.columns.to_list()\n",
    "lista_columnas.remove(\"Clicks\")\n",
    "\n",
    "for columna in lista_columnas:\n",
    "    lista_indices = df[df[columna].isna() == True].index.tolist()\n",
    "    df = df.drop(index = lista_indices)"
   ]
  },
  {
   "cell_type": "code",
   "execution_count": 11,
   "metadata": {},
   "outputs": [],
   "source": [
    "# Creamos la columna delay que es el tiempo que transcurre entre que se envía el meneo y se publica\n",
    "df[\"Delay\"] = df[\"Publicado\"] - df[\"Enviado\"]"
   ]
  },
  {
   "cell_type": "code",
   "execution_count": 12,
   "metadata": {},
   "outputs": [],
   "source": [
    "# Una vez calculada esa columna, enviado y publicado no hacen falta\n",
    "\n",
    "df = df.drop(columns=[\"Enviado\", \"Publicado\"], axis=1)"
   ]
  },
  {
   "cell_type": "code",
   "execution_count": 13,
   "metadata": {},
   "outputs": [
    {
     "data": {
      "text/html": [
       "<div>\n",
       "<style scoped>\n",
       "    .dataframe tbody tr th:only-of-type {\n",
       "        vertical-align: middle;\n",
       "    }\n",
       "\n",
       "    .dataframe tbody tr th {\n",
       "        vertical-align: top;\n",
       "    }\n",
       "\n",
       "    .dataframe thead th {\n",
       "        text-align: right;\n",
       "    }\n",
       "</style>\n",
       "<table border=\"1\" class=\"dataframe\">\n",
       "  <thead>\n",
       "    <tr style=\"text-align: right;\">\n",
       "      <th></th>\n",
       "      <th>Titular</th>\n",
       "      <th>Medio</th>\n",
       "      <th>URL</th>\n",
       "      <th>Meneos</th>\n",
       "      <th>Clicks</th>\n",
       "      <th>Positivos</th>\n",
       "      <th>Anonimos</th>\n",
       "      <th>Negativos</th>\n",
       "      <th>Comentarios</th>\n",
       "      <th>Karma</th>\n",
       "      <th>Delay</th>\n",
       "    </tr>\n",
       "  </thead>\n",
       "  <tbody>\n",
       "    <tr>\n",
       "      <th>0</th>\n",
       "      <td>Que arresten a los líderes de Israel por críme...</td>\n",
       "      <td>ctxt.es</td>\n",
       "      <td>https://old.meneame.net/story/arresten-lideres...</td>\n",
       "      <td>81</td>\n",
       "      <td>111.0</td>\n",
       "      <td>51.0</td>\n",
       "      <td>30.0</td>\n",
       "      <td>4.0</td>\n",
       "      <td>11.0</td>\n",
       "      <td>463.0</td>\n",
       "      <td>7655.0</td>\n",
       "    </tr>\n",
       "    <tr>\n",
       "      <th>1</th>\n",
       "      <td>El pelotazo de los curas salesianos con una pi...</td>\n",
       "      <td>elsaltodiario.com</td>\n",
       "      <td>https://old.meneame.net/story/pelotazo-curas-s...</td>\n",
       "      <td>73</td>\n",
       "      <td>336.0</td>\n",
       "      <td>43.0</td>\n",
       "      <td>30.0</td>\n",
       "      <td>3.0</td>\n",
       "      <td>20.0</td>\n",
       "      <td>441.0</td>\n",
       "      <td>10093.0</td>\n",
       "    </tr>\n",
       "    <tr>\n",
       "      <th>2</th>\n",
       "      <td>Países Bajos no participa en el segundo ensayo...</td>\n",
       "      <td>hoy.es</td>\n",
       "      <td>https://old.meneame.net/story/paises-bajos-no-...</td>\n",
       "      <td>123</td>\n",
       "      <td>1275.0</td>\n",
       "      <td>72.0</td>\n",
       "      <td>51.0</td>\n",
       "      <td>3.0</td>\n",
       "      <td>39.0</td>\n",
       "      <td>460.0</td>\n",
       "      <td>1683.0</td>\n",
       "    </tr>\n",
       "  </tbody>\n",
       "</table>\n",
       "</div>"
      ],
      "text/plain": [
       "                                             Titular              Medio  \\\n",
       "0  Que arresten a los líderes de Israel por críme...            ctxt.es   \n",
       "1  El pelotazo de los curas salesianos con una pi...  elsaltodiario.com   \n",
       "2  Países Bajos no participa en el segundo ensayo...             hoy.es   \n",
       "\n",
       "                                                 URL  Meneos  Clicks  \\\n",
       "0  https://old.meneame.net/story/arresten-lideres...      81   111.0   \n",
       "1  https://old.meneame.net/story/pelotazo-curas-s...      73   336.0   \n",
       "2  https://old.meneame.net/story/paises-bajos-no-...     123  1275.0   \n",
       "\n",
       "   Positivos  Anonimos  Negativos  Comentarios  Karma    Delay  \n",
       "0       51.0      30.0        4.0         11.0  463.0   7655.0  \n",
       "1       43.0      30.0        3.0         20.0  441.0  10093.0  \n",
       "2       72.0      51.0        3.0         39.0  460.0   1683.0  "
      ]
     },
     "execution_count": 13,
     "metadata": {},
     "output_type": "execute_result"
    }
   ],
   "source": [
    "df.head(3)"
   ]
  },
  {
   "cell_type": "code",
   "execution_count": 14,
   "metadata": {},
   "outputs": [
    {
     "data": {
      "text/plain": [
       "array([ 2.12638889,  2.80361111,  0.4675    , ...,  9.79305556,\n",
       "       20.38666667,  0.05638889])"
      ]
     },
     "execution_count": 14,
     "metadata": {},
     "output_type": "execute_result"
    }
   ],
   "source": [
    "df[\"Delay_horas\"] = df[\"Delay\"]/3600\n",
    "\n",
    "df[\"Delay_horas\"].unique()"
   ]
  },
  {
   "cell_type": "code",
   "execution_count": 15,
   "metadata": {},
   "outputs": [
    {
     "data": {
      "text/html": [
       "<div>\n",
       "<style scoped>\n",
       "    .dataframe tbody tr th:only-of-type {\n",
       "        vertical-align: middle;\n",
       "    }\n",
       "\n",
       "    .dataframe tbody tr th {\n",
       "        vertical-align: top;\n",
       "    }\n",
       "\n",
       "    .dataframe thead th {\n",
       "        text-align: right;\n",
       "    }\n",
       "</style>\n",
       "<table border=\"1\" class=\"dataframe\">\n",
       "  <thead>\n",
       "    <tr style=\"text-align: right;\">\n",
       "      <th></th>\n",
       "      <th>Titular</th>\n",
       "      <th>Medio</th>\n",
       "      <th>URL</th>\n",
       "      <th>Meneos</th>\n",
       "      <th>Clicks</th>\n",
       "      <th>Positivos</th>\n",
       "      <th>Anonimos</th>\n",
       "      <th>Negativos</th>\n",
       "      <th>Comentarios</th>\n",
       "      <th>Karma</th>\n",
       "      <th>Delay</th>\n",
       "      <th>Delay_horas</th>\n",
       "    </tr>\n",
       "  </thead>\n",
       "  <tbody>\n",
       "    <tr>\n",
       "      <th>0</th>\n",
       "      <td>Que arresten a los líderes de Israel por críme...</td>\n",
       "      <td>ctxt.es</td>\n",
       "      <td>https://old.meneame.net/story/arresten-lideres...</td>\n",
       "      <td>81</td>\n",
       "      <td>111.0</td>\n",
       "      <td>51.0</td>\n",
       "      <td>30.0</td>\n",
       "      <td>4.0</td>\n",
       "      <td>11.0</td>\n",
       "      <td>463.0</td>\n",
       "      <td>7655.0</td>\n",
       "      <td>2.1263889</td>\n",
       "    </tr>\n",
       "    <tr>\n",
       "      <th>1</th>\n",
       "      <td>El pelotazo de los curas salesianos con una pi...</td>\n",
       "      <td>elsaltodiario.com</td>\n",
       "      <td>https://old.meneame.net/story/pelotazo-curas-s...</td>\n",
       "      <td>73</td>\n",
       "      <td>336.0</td>\n",
       "      <td>43.0</td>\n",
       "      <td>30.0</td>\n",
       "      <td>3.0</td>\n",
       "      <td>20.0</td>\n",
       "      <td>441.0</td>\n",
       "      <td>10093.0</td>\n",
       "      <td>2.8036111</td>\n",
       "    </tr>\n",
       "    <tr>\n",
       "      <th>2</th>\n",
       "      <td>Países Bajos no participa en el segundo ensayo...</td>\n",
       "      <td>hoy.es</td>\n",
       "      <td>https://old.meneame.net/story/paises-bajos-no-...</td>\n",
       "      <td>123</td>\n",
       "      <td>1275.0</td>\n",
       "      <td>72.0</td>\n",
       "      <td>51.0</td>\n",
       "      <td>3.0</td>\n",
       "      <td>39.0</td>\n",
       "      <td>460.0</td>\n",
       "      <td>1683.0</td>\n",
       "      <td>0.4675000</td>\n",
       "    </tr>\n",
       "  </tbody>\n",
       "</table>\n",
       "</div>"
      ],
      "text/plain": [
       "                                             Titular              Medio  \\\n",
       "0  Que arresten a los líderes de Israel por críme...            ctxt.es   \n",
       "1  El pelotazo de los curas salesianos con una pi...  elsaltodiario.com   \n",
       "2  Países Bajos no participa en el segundo ensayo...             hoy.es   \n",
       "\n",
       "                                                 URL  Meneos  Clicks  \\\n",
       "0  https://old.meneame.net/story/arresten-lideres...      81   111.0   \n",
       "1  https://old.meneame.net/story/pelotazo-curas-s...      73   336.0   \n",
       "2  https://old.meneame.net/story/paises-bajos-no-...     123  1275.0   \n",
       "\n",
       "   Positivos  Anonimos  Negativos  Comentarios  Karma    Delay  Delay_horas  \n",
       "0       51.0      30.0        4.0         11.0  463.0   7655.0    2.1263889  \n",
       "1       43.0      30.0        3.0         20.0  441.0  10093.0    2.8036111  \n",
       "2       72.0      51.0        3.0         39.0  460.0   1683.0    0.4675000  "
      ]
     },
     "execution_count": 15,
     "metadata": {},
     "output_type": "execute_result"
    }
   ],
   "source": [
    "df.head(3)"
   ]
  },
  {
   "cell_type": "code",
   "execution_count": null,
   "metadata": {},
   "outputs": [],
   "source": [
    "plt.figure(figsize=(12, 7))\n",
    "\n",
    "sns.histplot(df[\"Delay_horas\"].apply(np.log))\n",
    "\n",
    "plt.show()"
   ]
  },
  {
   "cell_type": "code",
   "execution_count": null,
   "metadata": {},
   "outputs": [],
   "source": [
    "px.histogram(df[\"Delay_horas\"], marginal=\"box\")"
   ]
  },
  {
   "cell_type": "code",
   "execution_count": null,
   "metadata": {},
   "outputs": [],
   "source": [
    "px.histogram(df[\"Delay_horas\"].apply(np.log), marginal=\"box\")"
   ]
  },
  {
   "cell_type": "code",
   "execution_count": null,
   "metadata": {},
   "outputs": [],
   "source": [
    "plt.figure(figsize=(12, 7))\n",
    "\n",
    "sns.boxplot(df[\"Delay_horas\"].apply(np.log))\n",
    "\n",
    "plt.show()"
   ]
  },
  {
   "cell_type": "code",
   "execution_count": 22,
   "metadata": {},
   "outputs": [
    {
     "data": {
      "text/plain": [
       "count    274367.0000000\n",
       "mean          6.5195869\n",
       "std           7.9097874\n",
       "min           0.0000000\n",
       "25%           1.5216667\n",
       "50%           3.7613889\n",
       "75%           8.5483333\n",
       "max         226.4994444\n",
       "Name: Delay_horas, dtype: float64"
      ]
     },
     "execution_count": 22,
     "metadata": {},
     "output_type": "execute_result"
    }
   ],
   "source": [
    "df[\"Delay_horas\"].describe()"
   ]
  },
  {
   "cell_type": "code",
   "execution_count": 23,
   "metadata": {},
   "outputs": [],
   "source": [
    "def delay(x):\n",
    "    if x < 1:\n",
    "        return(\"Menos de 1 hora\")\n",
    "    elif 1 <= x < 3:\n",
    "        return(\"Entre 1 y 3 horas\")\n",
    "    elif 3 <= x < 6:\n",
    "        return(\"Entre 3 y 6 horas\")\n",
    "    elif 6 <= x < 9:\n",
    "        return(\"Entre 6 y 9 horas\")\n",
    "    else:\n",
    "        return(\"Más de 9 horas\")\n",
    "\n",
    "df[\"Delay_horas\"] = df[\"Delay_horas\"].apply(lambda x: delay(x))"
   ]
  },
  {
   "cell_type": "code",
   "execution_count": 24,
   "metadata": {},
   "outputs": [
    {
     "data": {
      "text/plain": [
       "Delay_horas\n",
       "Entre 1 y 3 horas    69318\n",
       "Más de 9 horas       64559\n",
       "Entre 3 y 6 horas    59955\n",
       "Menos de 1 hora      47719\n",
       "Entre 6 y 9 horas    32816\n",
       "Name: count, dtype: int64"
      ]
     },
     "execution_count": 24,
     "metadata": {},
     "output_type": "execute_result"
    }
   ],
   "source": [
    "df[\"Delay_horas\"].value_counts()"
   ]
  },
  {
   "cell_type": "code",
   "execution_count": 25,
   "metadata": {},
   "outputs": [],
   "source": [
    "df = df.drop(columns = [\"Delay\", \"Positivos\", \"Anonimos\"], axis = 1)"
   ]
  },
  {
   "cell_type": "code",
   "execution_count": 26,
   "metadata": {},
   "outputs": [
    {
     "data": {
      "text/plain": [
       "Medio\n",
       "eldiario.es                    10261\n",
       "youtube.com                     8239\n",
       "elpais.com                      7274\n",
       "publico.es                      7010\n",
       "elmundo.es                      6747\n",
       "                               ...  \n",
       "ncov.r6.no                         1\n",
       "dosmaletas.blogcindario.com        1\n",
       "nbcwashington.com                  1\n",
       "skamasle.com                       1\n",
       "reviews.zdnet.co.uk                1\n",
       "Name: count, Length: 30614, dtype: int64"
      ]
     },
     "execution_count": 26,
     "metadata": {},
     "output_type": "execute_result"
    }
   ],
   "source": [
    "df[\"Medio\"].value_counts()"
   ]
  },
  {
   "cell_type": "code",
   "execution_count": 27,
   "metadata": {},
   "outputs": [],
   "source": [
    "# Eliminamos la columna medio porque la dimensionalidad es demasiado grande\n",
    "\n",
    "df = df.drop(columns=[\"Medio\"], axis=1)"
   ]
  },
  {
   "cell_type": "code",
   "execution_count": 28,
   "metadata": {},
   "outputs": [
    {
     "data": {
      "text/html": [
       "<div>\n",
       "<style scoped>\n",
       "    .dataframe tbody tr th:only-of-type {\n",
       "        vertical-align: middle;\n",
       "    }\n",
       "\n",
       "    .dataframe tbody tr th {\n",
       "        vertical-align: top;\n",
       "    }\n",
       "\n",
       "    .dataframe thead th {\n",
       "        text-align: right;\n",
       "    }\n",
       "</style>\n",
       "<table border=\"1\" class=\"dataframe\">\n",
       "  <thead>\n",
       "    <tr style=\"text-align: right;\">\n",
       "      <th></th>\n",
       "      <th>Titular</th>\n",
       "      <th>URL</th>\n",
       "      <th>Meneos</th>\n",
       "      <th>Clicks</th>\n",
       "      <th>Negativos</th>\n",
       "      <th>Comentarios</th>\n",
       "      <th>Karma</th>\n",
       "      <th>Delay_horas</th>\n",
       "    </tr>\n",
       "  </thead>\n",
       "  <tbody>\n",
       "    <tr>\n",
       "      <th>0</th>\n",
       "      <td>Que arresten a los líderes de Israel por críme...</td>\n",
       "      <td>https://old.meneame.net/story/arresten-lideres...</td>\n",
       "      <td>81</td>\n",
       "      <td>111.0</td>\n",
       "      <td>4.0</td>\n",
       "      <td>11.0</td>\n",
       "      <td>463.0</td>\n",
       "      <td>Entre 1 y 3 horas</td>\n",
       "    </tr>\n",
       "    <tr>\n",
       "      <th>1</th>\n",
       "      <td>El pelotazo de los curas salesianos con una pi...</td>\n",
       "      <td>https://old.meneame.net/story/pelotazo-curas-s...</td>\n",
       "      <td>73</td>\n",
       "      <td>336.0</td>\n",
       "      <td>3.0</td>\n",
       "      <td>20.0</td>\n",
       "      <td>441.0</td>\n",
       "      <td>Entre 1 y 3 horas</td>\n",
       "    </tr>\n",
       "    <tr>\n",
       "      <th>2</th>\n",
       "      <td>Países Bajos no participa en el segundo ensayo...</td>\n",
       "      <td>https://old.meneame.net/story/paises-bajos-no-...</td>\n",
       "      <td>123</td>\n",
       "      <td>1275.0</td>\n",
       "      <td>3.0</td>\n",
       "      <td>39.0</td>\n",
       "      <td>460.0</td>\n",
       "      <td>Menos de 1 hora</td>\n",
       "    </tr>\n",
       "    <tr>\n",
       "      <th>3</th>\n",
       "      <td>Todos los israelíes están entrenados en hasbar...</td>\n",
       "      <td>https://old.meneame.net/story/todos-israelies-...</td>\n",
       "      <td>117</td>\n",
       "      <td>1256.0</td>\n",
       "      <td>5.0</td>\n",
       "      <td>24.0</td>\n",
       "      <td>410.0</td>\n",
       "      <td>Entre 3 y 6 horas</td>\n",
       "    </tr>\n",
       "    <tr>\n",
       "      <th>4</th>\n",
       "      <td>Cuando Einstein llamó “fascistas” a los gobern...</td>\n",
       "      <td>https://old.meneame.net/story/cuando-einstein-...</td>\n",
       "      <td>260</td>\n",
       "      <td>415.0</td>\n",
       "      <td>2.0</td>\n",
       "      <td>17.0</td>\n",
       "      <td>461.0</td>\n",
       "      <td>Entre 6 y 9 horas</td>\n",
       "    </tr>\n",
       "  </tbody>\n",
       "</table>\n",
       "</div>"
      ],
      "text/plain": [
       "                                             Titular  \\\n",
       "0  Que arresten a los líderes de Israel por críme...   \n",
       "1  El pelotazo de los curas salesianos con una pi...   \n",
       "2  Países Bajos no participa en el segundo ensayo...   \n",
       "3  Todos los israelíes están entrenados en hasbar...   \n",
       "4  Cuando Einstein llamó “fascistas” a los gobern...   \n",
       "\n",
       "                                                 URL  Meneos  Clicks  \\\n",
       "0  https://old.meneame.net/story/arresten-lideres...      81   111.0   \n",
       "1  https://old.meneame.net/story/pelotazo-curas-s...      73   336.0   \n",
       "2  https://old.meneame.net/story/paises-bajos-no-...     123  1275.0   \n",
       "3  https://old.meneame.net/story/todos-israelies-...     117  1256.0   \n",
       "4  https://old.meneame.net/story/cuando-einstein-...     260   415.0   \n",
       "\n",
       "   Negativos  Comentarios  Karma        Delay_horas  \n",
       "0        4.0         11.0  463.0  Entre 1 y 3 horas  \n",
       "1        3.0         20.0  441.0  Entre 1 y 3 horas  \n",
       "2        3.0         39.0  460.0    Menos de 1 hora  \n",
       "3        5.0         24.0  410.0  Entre 3 y 6 horas  \n",
       "4        2.0         17.0  461.0  Entre 6 y 9 horas  "
      ]
     },
     "execution_count": 28,
     "metadata": {},
     "output_type": "execute_result"
    }
   ],
   "source": [
    "df.head()"
   ]
  },
  {
   "cell_type": "code",
   "execution_count": 29,
   "metadata": {},
   "outputs": [],
   "source": [
    "# Separamos nuestro dataframe en uno de train, test y otro de predicción\n",
    "\n",
    "df_tt = df[df[\"Clicks\"].isna() == False]\n",
    "df_tt.to_csv(\"Data/Datos_TrainTest.csv\", index=False)\n",
    "\n",
    "df_pred = df[df[\"Clicks\"].isna() == True]\n",
    "df_pred.to_csv(\"Data/Datos_Pred.csv\", index=False)"
   ]
  },
  {
   "cell_type": "markdown",
   "metadata": {},
   "source": [
    "## OUTLIERS ##"
   ]
  },
  {
   "cell_type": "markdown",
   "metadata": {},
   "source": [
    "# Meneos #"
   ]
  },
  {
   "cell_type": "code",
   "execution_count": 30,
   "metadata": {},
   "outputs": [],
   "source": [
    "def plot_numeric(df_tt, feature, transform=None):\n",
    "    fig, ax = plt.subplots(1,2, figsize=(14,4))\n",
    "    \n",
    "    if transform == False or transform == None:\n",
    "        sns.histplot(df[feature], ax=ax[0])\n",
    "        sns.boxplot(x=df[feature], ax=ax[1])\n",
    "    else:\n",
    "        sns.histplot(df[feature].apply(transform), ax=ax[0])\n",
    "        sns.boxplot(x=df[feature].apply(transform), ax=ax[1])\n",
    "    "
   ]
  },
  {
   "cell_type": "code",
   "execution_count": null,
   "metadata": {},
   "outputs": [],
   "source": [
    "plot_numeric(df_tt, \"Meneos\")"
   ]
  },
  {
   "cell_type": "code",
   "execution_count": null,
   "metadata": {},
   "outputs": [],
   "source": [
    "plot_numeric(df_tt, \"Meneos\", transform=(np.log))"
   ]
  },
  {
   "cell_type": "code",
   "execution_count": 33,
   "metadata": {},
   "outputs": [
    {
     "data": {
      "text/plain": [
       "count    193671.0000000\n",
       "mean        566.0068208\n",
       "std         429.0707078\n",
       "min          10.0000000\n",
       "25%         281.0000000\n",
       "50%         444.0000000\n",
       "75%         714.0000000\n",
       "max       11559.0000000\n",
       "Name: Meneos, dtype: float64"
      ]
     },
     "execution_count": 33,
     "metadata": {},
     "output_type": "execute_result"
    }
   ],
   "source": [
    "df_tt[\"Meneos\"].describe()"
   ]
  },
  {
   "cell_type": "code",
   "execution_count": 34,
   "metadata": {},
   "outputs": [
    {
     "name": "stdout",
     "output_type": "stream",
     "text": [
      "-368.5 1363.5\n"
     ]
    }
   ],
   "source": [
    "ric = 714-281\n",
    "\n",
    "lim_inf = 281 - 1.5*ric\n",
    "lim_sup = 714 + 1.5*ric\n",
    "\n",
    "print(lim_inf, lim_sup)"
   ]
  },
  {
   "cell_type": "code",
   "execution_count": null,
   "metadata": {},
   "outputs": [],
   "source": [
    "plt.figure(figsize = (10,6))\n",
    "\n",
    "stats = df_tt[\"Meneos\"].apply(np.log).describe()\n",
    "\n",
    "median = stats[\"50%\"]\n",
    "\n",
    "Q1 = stats[\"25%\"]\n",
    "Q3 = stats[\"75%\"]\n",
    "\n",
    "ric = Q3 - Q1\n",
    "\n",
    "lim_l = Q1 - ric*2\n",
    "lim_r = Q3 + ric*2\n",
    "\n",
    "sns.histplot(df_tt[\"Meneos\"].apply(np.log))\n",
    "\n",
    "plt.axvline(median, color = \"black\")\n",
    "plt.axvline(lim_l, color=\"black\", alpha = 0.5)\n",
    "plt.axvline(lim_r, color=\"black\", alpha = 0.5)\n",
    "\n",
    "plt.show()"
   ]
  },
  {
   "cell_type": "code",
   "execution_count": 36,
   "metadata": {},
   "outputs": [
    {
     "data": {
      "text/plain": [
       "3.773298083322068"
      ]
     },
     "execution_count": 36,
     "metadata": {},
     "output_type": "execute_result"
    }
   ],
   "source": [
    "lim_l"
   ]
  },
  {
   "cell_type": "code",
   "execution_count": 37,
   "metadata": {},
   "outputs": [
    {
     "data": {
      "text/plain": [
       "(193671, 8)"
      ]
     },
     "execution_count": 37,
     "metadata": {},
     "output_type": "execute_result"
    }
   ],
   "source": [
    "df_tt.shape"
   ]
  },
  {
   "cell_type": "code",
   "execution_count": 38,
   "metadata": {},
   "outputs": [
    {
     "data": {
      "text/html": [
       "<div>\n",
       "<style scoped>\n",
       "    .dataframe tbody tr th:only-of-type {\n",
       "        vertical-align: middle;\n",
       "    }\n",
       "\n",
       "    .dataframe tbody tr th {\n",
       "        vertical-align: top;\n",
       "    }\n",
       "\n",
       "    .dataframe thead th {\n",
       "        text-align: right;\n",
       "    }\n",
       "</style>\n",
       "<table border=\"1\" class=\"dataframe\">\n",
       "  <thead>\n",
       "    <tr style=\"text-align: right;\">\n",
       "      <th></th>\n",
       "      <th>Titular</th>\n",
       "      <th>URL</th>\n",
       "      <th>Meneos</th>\n",
       "      <th>Clicks</th>\n",
       "      <th>Negativos</th>\n",
       "      <th>Comentarios</th>\n",
       "      <th>Karma</th>\n",
       "      <th>Delay_horas</th>\n",
       "    </tr>\n",
       "  </thead>\n",
       "  <tbody>\n",
       "    <tr>\n",
       "      <th>0</th>\n",
       "      <td>Que arresten a los líderes de Israel por críme...</td>\n",
       "      <td>https://old.meneame.net/story/arresten-lideres...</td>\n",
       "      <td>81</td>\n",
       "      <td>111.0</td>\n",
       "      <td>4.0</td>\n",
       "      <td>11.0</td>\n",
       "      <td>463.0</td>\n",
       "      <td>Entre 1 y 3 horas</td>\n",
       "    </tr>\n",
       "    <tr>\n",
       "      <th>1</th>\n",
       "      <td>El pelotazo de los curas salesianos con una pi...</td>\n",
       "      <td>https://old.meneame.net/story/pelotazo-curas-s...</td>\n",
       "      <td>73</td>\n",
       "      <td>336.0</td>\n",
       "      <td>3.0</td>\n",
       "      <td>20.0</td>\n",
       "      <td>441.0</td>\n",
       "      <td>Entre 1 y 3 horas</td>\n",
       "    </tr>\n",
       "    <tr>\n",
       "      <th>2</th>\n",
       "      <td>Países Bajos no participa en el segundo ensayo...</td>\n",
       "      <td>https://old.meneame.net/story/paises-bajos-no-...</td>\n",
       "      <td>123</td>\n",
       "      <td>1275.0</td>\n",
       "      <td>3.0</td>\n",
       "      <td>39.0</td>\n",
       "      <td>460.0</td>\n",
       "      <td>Menos de 1 hora</td>\n",
       "    </tr>\n",
       "    <tr>\n",
       "      <th>3</th>\n",
       "      <td>Todos los israelíes están entrenados en hasbar...</td>\n",
       "      <td>https://old.meneame.net/story/todos-israelies-...</td>\n",
       "      <td>117</td>\n",
       "      <td>1256.0</td>\n",
       "      <td>5.0</td>\n",
       "      <td>24.0</td>\n",
       "      <td>410.0</td>\n",
       "      <td>Entre 3 y 6 horas</td>\n",
       "    </tr>\n",
       "    <tr>\n",
       "      <th>4</th>\n",
       "      <td>Cuando Einstein llamó “fascistas” a los gobern...</td>\n",
       "      <td>https://old.meneame.net/story/cuando-einstein-...</td>\n",
       "      <td>260</td>\n",
       "      <td>415.0</td>\n",
       "      <td>2.0</td>\n",
       "      <td>17.0</td>\n",
       "      <td>461.0</td>\n",
       "      <td>Entre 6 y 9 horas</td>\n",
       "    </tr>\n",
       "    <tr>\n",
       "      <th>...</th>\n",
       "      <td>...</td>\n",
       "      <td>...</td>\n",
       "      <td>...</td>\n",
       "      <td>...</td>\n",
       "      <td>...</td>\n",
       "      <td>...</td>\n",
       "      <td>...</td>\n",
       "      <td>...</td>\n",
       "    </tr>\n",
       "    <tr>\n",
       "      <th>193675</th>\n",
       "      <td>¿Un melenudo nueva imagen de Pantene?</td>\n",
       "      <td>https://old.meneame.net/story/melenudo-nueva-i...</td>\n",
       "      <td>1220</td>\n",
       "      <td>21493.0</td>\n",
       "      <td>4.0</td>\n",
       "      <td>113.0</td>\n",
       "      <td>605.0</td>\n",
       "      <td>Entre 3 y 6 horas</td>\n",
       "    </tr>\n",
       "    <tr>\n",
       "      <th>193678</th>\n",
       "      <td>En todo el Sistema Solar</td>\n",
       "      <td>https://old.meneame.net/story/en-todo-el-siste...</td>\n",
       "      <td>400</td>\n",
       "      <td>8567.0</td>\n",
       "      <td>0.0</td>\n",
       "      <td>18.0</td>\n",
       "      <td>654.0</td>\n",
       "      <td>Entre 1 y 3 horas</td>\n",
       "    </tr>\n",
       "    <tr>\n",
       "      <th>193680</th>\n",
       "      <td>Un matrimonio denuncia a la embajada en Roma p...</td>\n",
       "      <td>https://old.meneame.net/story/matrimonio-denun...</td>\n",
       "      <td>877</td>\n",
       "      <td>4867.0</td>\n",
       "      <td>1.0</td>\n",
       "      <td>51.0</td>\n",
       "      <td>682.0</td>\n",
       "      <td>Entre 1 y 3 horas</td>\n",
       "    </tr>\n",
       "    <tr>\n",
       "      <th>193686</th>\n",
       "      <td>Díaz Ferrán pulveriza 3.000 empleos en menos d...</td>\n",
       "      <td>https://old.meneame.net/story/diaz-ferran-pulv...</td>\n",
       "      <td>871</td>\n",
       "      <td>879.0</td>\n",
       "      <td>3.0</td>\n",
       "      <td>55.0</td>\n",
       "      <td>722.0</td>\n",
       "      <td>Entre 1 y 3 horas</td>\n",
       "    </tr>\n",
       "    <tr>\n",
       "      <th>193688</th>\n",
       "      <td>Movistar, Jazztel, Orange y Ono prohíben compa...</td>\n",
       "      <td>https://old.meneame.net/story/ovistar-jazztel-...</td>\n",
       "      <td>1153</td>\n",
       "      <td>4270.0</td>\n",
       "      <td>0.0</td>\n",
       "      <td>104.0</td>\n",
       "      <td>712.0</td>\n",
       "      <td>Menos de 1 hora</td>\n",
       "    </tr>\n",
       "  </tbody>\n",
       "</table>\n",
       "<p>193253 rows × 8 columns</p>\n",
       "</div>"
      ],
      "text/plain": [
       "                                                  Titular  \\\n",
       "0       Que arresten a los líderes de Israel por críme...   \n",
       "1       El pelotazo de los curas salesianos con una pi...   \n",
       "2       Países Bajos no participa en el segundo ensayo...   \n",
       "3       Todos los israelíes están entrenados en hasbar...   \n",
       "4       Cuando Einstein llamó “fascistas” a los gobern...   \n",
       "...                                                   ...   \n",
       "193675              ¿Un melenudo nueva imagen de Pantene?   \n",
       "193678                           En todo el Sistema Solar   \n",
       "193680  Un matrimonio denuncia a la embajada en Roma p...   \n",
       "193686  Díaz Ferrán pulveriza 3.000 empleos en menos d...   \n",
       "193688  Movistar, Jazztel, Orange y Ono prohíben compa...   \n",
       "\n",
       "                                                      URL  Meneos   Clicks  \\\n",
       "0       https://old.meneame.net/story/arresten-lideres...      81    111.0   \n",
       "1       https://old.meneame.net/story/pelotazo-curas-s...      73    336.0   \n",
       "2       https://old.meneame.net/story/paises-bajos-no-...     123   1275.0   \n",
       "3       https://old.meneame.net/story/todos-israelies-...     117   1256.0   \n",
       "4       https://old.meneame.net/story/cuando-einstein-...     260    415.0   \n",
       "...                                                   ...     ...      ...   \n",
       "193675  https://old.meneame.net/story/melenudo-nueva-i...    1220  21493.0   \n",
       "193678  https://old.meneame.net/story/en-todo-el-siste...     400   8567.0   \n",
       "193680  https://old.meneame.net/story/matrimonio-denun...     877   4867.0   \n",
       "193686  https://old.meneame.net/story/diaz-ferran-pulv...     871    879.0   \n",
       "193688  https://old.meneame.net/story/ovistar-jazztel-...    1153   4270.0   \n",
       "\n",
       "        Negativos  Comentarios  Karma        Delay_horas  \n",
       "0             4.0         11.0  463.0  Entre 1 y 3 horas  \n",
       "1             3.0         20.0  441.0  Entre 1 y 3 horas  \n",
       "2             3.0         39.0  460.0    Menos de 1 hora  \n",
       "3             5.0         24.0  410.0  Entre 3 y 6 horas  \n",
       "4             2.0         17.0  461.0  Entre 6 y 9 horas  \n",
       "...           ...          ...    ...                ...  \n",
       "193675        4.0        113.0  605.0  Entre 3 y 6 horas  \n",
       "193678        0.0         18.0  654.0  Entre 1 y 3 horas  \n",
       "193680        1.0         51.0  682.0  Entre 1 y 3 horas  \n",
       "193686        3.0         55.0  722.0  Entre 1 y 3 horas  \n",
       "193688        0.0        104.0  712.0    Menos de 1 hora  \n",
       "\n",
       "[193253 rows x 8 columns]"
      ]
     },
     "execution_count": 38,
     "metadata": {},
     "output_type": "execute_result"
    }
   ],
   "source": [
    "df_tt = df_tt[df_tt[\"Meneos\"].between(50, 3000)]\n",
    "\n",
    "df_tt"
   ]
  },
  {
   "cell_type": "markdown",
   "metadata": {},
   "source": [
    "# Negativos #"
   ]
  },
  {
   "cell_type": "code",
   "execution_count": null,
   "metadata": {},
   "outputs": [],
   "source": [
    "plt.figure(figsize = (10,6))\n",
    "\n",
    "stats = df_tt[\"Negativos\"].describe()\n",
    "\n",
    "median = stats[\"50%\"]\n",
    "\n",
    "Q1 = stats[\"25%\"]\n",
    "Q3 = stats[\"75%\"]\n",
    "\n",
    "ric = Q3 - Q1\n",
    "\n",
    "lim_l = Q1 - ric*2\n",
    "lim_r = Q3 + ric*2\n",
    "\n",
    "sns.histplot(df_tt[\"Negativos\"])\n",
    "\n",
    "plt.axvline(median, color = \"black\")\n",
    "plt.axvline(lim_l, color=\"black\", alpha = 0.5)\n",
    "plt.axvline(lim_r, color=\"black\", alpha = 0.5)\n",
    "\n",
    "plt.show()"
   ]
  },
  {
   "cell_type": "code",
   "execution_count": 40,
   "metadata": {},
   "outputs": [
    {
     "data": {
      "text/plain": [
       "count    274367.0000000\n",
       "mean          4.3537269\n",
       "std           8.5602412\n",
       "min           0.0000000\n",
       "25%           0.0000000\n",
       "50%           2.0000000\n",
       "75%           5.0000000\n",
       "max         246.0000000\n",
       "Name: Negativos, dtype: float64"
      ]
     },
     "execution_count": 40,
     "metadata": {},
     "output_type": "execute_result"
    }
   ],
   "source": [
    "df[\"Negativos\"].describe()"
   ]
  },
  {
   "cell_type": "code",
   "execution_count": null,
   "metadata": {},
   "outputs": [],
   "source": [
    "px.histogram(df_tt[\"Negativos\"], marginal=\"box\")"
   ]
  },
  {
   "cell_type": "code",
   "execution_count": null,
   "metadata": {},
   "outputs": [],
   "source": [
    "px.histogram(df_tt[\"Negativos\"].apply(np.log), marginal=\"box\")"
   ]
  },
  {
   "cell_type": "code",
   "execution_count": 43,
   "metadata": {},
   "outputs": [
    {
     "data": {
      "text/html": [
       "<div>\n",
       "<style scoped>\n",
       "    .dataframe tbody tr th:only-of-type {\n",
       "        vertical-align: middle;\n",
       "    }\n",
       "\n",
       "    .dataframe tbody tr th {\n",
       "        vertical-align: top;\n",
       "    }\n",
       "\n",
       "    .dataframe thead th {\n",
       "        text-align: right;\n",
       "    }\n",
       "</style>\n",
       "<table border=\"1\" class=\"dataframe\">\n",
       "  <thead>\n",
       "    <tr style=\"text-align: right;\">\n",
       "      <th></th>\n",
       "      <th>Titular</th>\n",
       "      <th>URL</th>\n",
       "      <th>Meneos</th>\n",
       "      <th>Clicks</th>\n",
       "      <th>Negativos</th>\n",
       "      <th>Comentarios</th>\n",
       "      <th>Karma</th>\n",
       "      <th>Delay_horas</th>\n",
       "    </tr>\n",
       "  </thead>\n",
       "  <tbody>\n",
       "    <tr>\n",
       "      <th>0</th>\n",
       "      <td>Que arresten a los líderes de Israel por críme...</td>\n",
       "      <td>https://old.meneame.net/story/arresten-lideres...</td>\n",
       "      <td>81</td>\n",
       "      <td>111.0</td>\n",
       "      <td>4.0</td>\n",
       "      <td>11.0</td>\n",
       "      <td>463.0</td>\n",
       "      <td>Entre 1 y 3 horas</td>\n",
       "    </tr>\n",
       "    <tr>\n",
       "      <th>1</th>\n",
       "      <td>El pelotazo de los curas salesianos con una pi...</td>\n",
       "      <td>https://old.meneame.net/story/pelotazo-curas-s...</td>\n",
       "      <td>73</td>\n",
       "      <td>336.0</td>\n",
       "      <td>3.0</td>\n",
       "      <td>20.0</td>\n",
       "      <td>441.0</td>\n",
       "      <td>Entre 1 y 3 horas</td>\n",
       "    </tr>\n",
       "    <tr>\n",
       "      <th>2</th>\n",
       "      <td>Países Bajos no participa en el segundo ensayo...</td>\n",
       "      <td>https://old.meneame.net/story/paises-bajos-no-...</td>\n",
       "      <td>123</td>\n",
       "      <td>1275.0</td>\n",
       "      <td>3.0</td>\n",
       "      <td>39.0</td>\n",
       "      <td>460.0</td>\n",
       "      <td>Menos de 1 hora</td>\n",
       "    </tr>\n",
       "  </tbody>\n",
       "</table>\n",
       "</div>"
      ],
      "text/plain": [
       "                                             Titular  \\\n",
       "0  Que arresten a los líderes de Israel por críme...   \n",
       "1  El pelotazo de los curas salesianos con una pi...   \n",
       "2  Países Bajos no participa en el segundo ensayo...   \n",
       "\n",
       "                                                 URL  Meneos  Clicks  \\\n",
       "0  https://old.meneame.net/story/arresten-lideres...      81   111.0   \n",
       "1  https://old.meneame.net/story/pelotazo-curas-s...      73   336.0   \n",
       "2  https://old.meneame.net/story/paises-bajos-no-...     123  1275.0   \n",
       "\n",
       "   Negativos  Comentarios  Karma        Delay_horas  \n",
       "0        4.0         11.0  463.0  Entre 1 y 3 horas  \n",
       "1        3.0         20.0  441.0  Entre 1 y 3 horas  \n",
       "2        3.0         39.0  460.0    Menos de 1 hora  "
      ]
     },
     "execution_count": 43,
     "metadata": {},
     "output_type": "execute_result"
    }
   ],
   "source": [
    "df_tt = df_tt[df_tt[\"Negativos\"] <= 13]\n",
    "\n",
    "df_tt.head(3)"
   ]
  },
  {
   "cell_type": "markdown",
   "metadata": {},
   "source": [
    "# Comentarios # "
   ]
  },
  {
   "cell_type": "code",
   "execution_count": null,
   "metadata": {},
   "outputs": [],
   "source": [
    "px.histogram(df_tt[\"Comentarios\"], marginal=\"box\")"
   ]
  },
  {
   "cell_type": "code",
   "execution_count": 45,
   "metadata": {},
   "outputs": [
    {
     "data": {
      "text/plain": [
       "count    274367.0000000\n",
       "mean         74.3390167\n",
       "std          70.1521330\n",
       "min           0.0000000\n",
       "25%          31.0000000\n",
       "50%          54.0000000\n",
       "75%          93.0000000\n",
       "max        2718.0000000\n",
       "Name: Comentarios, dtype: float64"
      ]
     },
     "execution_count": 45,
     "metadata": {},
     "output_type": "execute_result"
    }
   ],
   "source": [
    "df[\"Comentarios\"].describe()"
   ]
  },
  {
   "cell_type": "code",
   "execution_count": 46,
   "metadata": {},
   "outputs": [
    {
     "name": "stdout",
     "output_type": "stream",
     "text": [
      "31.3 205.5\n"
     ]
    }
   ],
   "source": [
    "stats = df_tt[\"Comentarios\"].describe()\n",
    "\n",
    "ric = stats[\"75%\"] - stats[\"25%\"]\n",
    "\n",
    "lim_inf = stats[\"25%\"] - 0.1*ric\n",
    "lim_sup = stats[\"75%\"] + 1.5*ric\n",
    "\n",
    "print(lim_inf, lim_sup)"
   ]
  },
  {
   "cell_type": "code",
   "execution_count": 47,
   "metadata": {},
   "outputs": [
    {
     "data": {
      "text/plain": [
       "(153136, 8)"
      ]
     },
     "execution_count": 47,
     "metadata": {},
     "output_type": "execute_result"
    }
   ],
   "source": [
    "df_tt = df_tt[df_tt[\"Comentarios\"].between(10, 150)]\n",
    "\n",
    "df_tt.shape"
   ]
  },
  {
   "cell_type": "markdown",
   "metadata": {},
   "source": [
    "# Karma #"
   ]
  },
  {
   "cell_type": "code",
   "execution_count": null,
   "metadata": {},
   "outputs": [],
   "source": [
    "px.histogram(df_tt[\"Karma\"], marginal=\"box\")"
   ]
  },
  {
   "cell_type": "code",
   "execution_count": 49,
   "metadata": {},
   "outputs": [
    {
     "name": "stdout",
     "output_type": "stream",
     "text": [
      "185.0 710.0\n"
     ]
    }
   ],
   "source": [
    "stats = df_tt[\"Karma\"].describe()\n",
    "\n",
    "ric = stats[\"75%\"] - stats[\"25%\"]\n",
    "\n",
    "lim_inf = stats[\"25%\"] - 1*ric\n",
    "lim_sup = stats[\"75%\"] + 1*ric\n",
    "\n",
    "print(lim_inf, lim_sup)"
   ]
  },
  {
   "cell_type": "code",
   "execution_count": 50,
   "metadata": {},
   "outputs": [
    {
     "data": {
      "text/plain": [
       "count    153136.0000000\n",
       "mean        452.8340625\n",
       "std         122.0615586\n",
       "min          35.0000000\n",
       "25%         360.0000000\n",
       "50%         444.0000000\n",
       "75%         535.0000000\n",
       "max        6937.0000000\n",
       "Name: Karma, dtype: float64"
      ]
     },
     "execution_count": 50,
     "metadata": {},
     "output_type": "execute_result"
    }
   ],
   "source": [
    "stats"
   ]
  },
  {
   "cell_type": "code",
   "execution_count": 51,
   "metadata": {},
   "outputs": [
    {
     "data": {
      "text/plain": [
       "(148764, 8)"
      ]
     },
     "execution_count": 51,
     "metadata": {},
     "output_type": "execute_result"
    }
   ],
   "source": [
    "df_tt = df_tt[df_tt[\"Karma\"].between(230, 700)]\n",
    "\n",
    "df_tt.shape"
   ]
  },
  {
   "cell_type": "markdown",
   "metadata": {},
   "source": [
    "## Clicks ##"
   ]
  },
  {
   "cell_type": "code",
   "execution_count": null,
   "metadata": {},
   "outputs": [],
   "source": [
    "px.histogram(df_tt[\"Clicks\"].apply(np.log), marginal=\"box\")"
   ]
  },
  {
   "cell_type": "code",
   "execution_count": 53,
   "metadata": {},
   "outputs": [
    {
     "name": "stdout",
     "output_type": "stream",
     "text": [
      "262.99999153724815 37946.0237001653\n"
     ]
    }
   ],
   "source": [
    "lim_inf_clicks = np.exp(5.572154)\n",
    "\n",
    "lim_sup_clicks = np.exp(10.54392)\n",
    "\n",
    "print(lim_inf_clicks, lim_sup_clicks)"
   ]
  },
  {
   "cell_type": "code",
   "execution_count": 54,
   "metadata": {},
   "outputs": [
    {
     "data": {
      "text/html": [
       "<div>\n",
       "<style scoped>\n",
       "    .dataframe tbody tr th:only-of-type {\n",
       "        vertical-align: middle;\n",
       "    }\n",
       "\n",
       "    .dataframe tbody tr th {\n",
       "        vertical-align: top;\n",
       "    }\n",
       "\n",
       "    .dataframe thead th {\n",
       "        text-align: right;\n",
       "    }\n",
       "</style>\n",
       "<table border=\"1\" class=\"dataframe\">\n",
       "  <thead>\n",
       "    <tr style=\"text-align: right;\">\n",
       "      <th></th>\n",
       "      <th>Titular</th>\n",
       "      <th>URL</th>\n",
       "      <th>Meneos</th>\n",
       "      <th>Clicks</th>\n",
       "      <th>Negativos</th>\n",
       "      <th>Comentarios</th>\n",
       "      <th>Karma</th>\n",
       "      <th>Delay_horas</th>\n",
       "    </tr>\n",
       "  </thead>\n",
       "  <tbody>\n",
       "    <tr>\n",
       "      <th>1</th>\n",
       "      <td>El pelotazo de los curas salesianos con una pi...</td>\n",
       "      <td>https://old.meneame.net/story/pelotazo-curas-s...</td>\n",
       "      <td>73</td>\n",
       "      <td>336.0</td>\n",
       "      <td>3.0</td>\n",
       "      <td>20.0</td>\n",
       "      <td>441.0</td>\n",
       "      <td>Entre 1 y 3 horas</td>\n",
       "    </tr>\n",
       "    <tr>\n",
       "      <th>2</th>\n",
       "      <td>Países Bajos no participa en el segundo ensayo...</td>\n",
       "      <td>https://old.meneame.net/story/paises-bajos-no-...</td>\n",
       "      <td>123</td>\n",
       "      <td>1275.0</td>\n",
       "      <td>3.0</td>\n",
       "      <td>39.0</td>\n",
       "      <td>460.0</td>\n",
       "      <td>Menos de 1 hora</td>\n",
       "    </tr>\n",
       "    <tr>\n",
       "      <th>3</th>\n",
       "      <td>Todos los israelíes están entrenados en hasbar...</td>\n",
       "      <td>https://old.meneame.net/story/todos-israelies-...</td>\n",
       "      <td>117</td>\n",
       "      <td>1256.0</td>\n",
       "      <td>5.0</td>\n",
       "      <td>24.0</td>\n",
       "      <td>410.0</td>\n",
       "      <td>Entre 3 y 6 horas</td>\n",
       "    </tr>\n",
       "    <tr>\n",
       "      <th>4</th>\n",
       "      <td>Cuando Einstein llamó “fascistas” a los gobern...</td>\n",
       "      <td>https://old.meneame.net/story/cuando-einstein-...</td>\n",
       "      <td>260</td>\n",
       "      <td>415.0</td>\n",
       "      <td>2.0</td>\n",
       "      <td>17.0</td>\n",
       "      <td>461.0</td>\n",
       "      <td>Entre 6 y 9 horas</td>\n",
       "    </tr>\n",
       "    <tr>\n",
       "      <th>5</th>\n",
       "      <td>Vetiver: conoce qué es, para qué sirve, usos y...</td>\n",
       "      <td>https://old.meneame.net/story/vetiver-conoce-s...</td>\n",
       "      <td>64</td>\n",
       "      <td>595.0</td>\n",
       "      <td>1.0</td>\n",
       "      <td>34.0</td>\n",
       "      <td>436.0</td>\n",
       "      <td>Más de 9 horas</td>\n",
       "    </tr>\n",
       "  </tbody>\n",
       "</table>\n",
       "</div>"
      ],
      "text/plain": [
       "                                             Titular  \\\n",
       "1  El pelotazo de los curas salesianos con una pi...   \n",
       "2  Países Bajos no participa en el segundo ensayo...   \n",
       "3  Todos los israelíes están entrenados en hasbar...   \n",
       "4  Cuando Einstein llamó “fascistas” a los gobern...   \n",
       "5  Vetiver: conoce qué es, para qué sirve, usos y...   \n",
       "\n",
       "                                                 URL  Meneos  Clicks  \\\n",
       "1  https://old.meneame.net/story/pelotazo-curas-s...      73   336.0   \n",
       "2  https://old.meneame.net/story/paises-bajos-no-...     123  1275.0   \n",
       "3  https://old.meneame.net/story/todos-israelies-...     117  1256.0   \n",
       "4  https://old.meneame.net/story/cuando-einstein-...     260   415.0   \n",
       "5  https://old.meneame.net/story/vetiver-conoce-s...      64   595.0   \n",
       "\n",
       "   Negativos  Comentarios  Karma        Delay_horas  \n",
       "1        3.0         20.0  441.0  Entre 1 y 3 horas  \n",
       "2        3.0         39.0  460.0    Menos de 1 hora  \n",
       "3        5.0         24.0  410.0  Entre 3 y 6 horas  \n",
       "4        2.0         17.0  461.0  Entre 6 y 9 horas  \n",
       "5        1.0         34.0  436.0     Más de 9 horas  "
      ]
     },
     "execution_count": 54,
     "metadata": {},
     "output_type": "execute_result"
    }
   ],
   "source": [
    "df_tt = df_tt[df_tt[\"Clicks\"].between(263, 37946)]\n",
    "\n",
    "df_tt.head()"
   ]
  },
  {
   "cell_type": "markdown",
   "metadata": {},
   "source": [
    "## PREPROCESAMIENTO ##"
   ]
  },
  {
   "cell_type": "code",
   "execution_count": 57,
   "metadata": {},
   "outputs": [
    {
     "data": {
      "text/html": [
       "<div>\n",
       "<style scoped>\n",
       "    .dataframe tbody tr th:only-of-type {\n",
       "        vertical-align: middle;\n",
       "    }\n",
       "\n",
       "    .dataframe tbody tr th {\n",
       "        vertical-align: top;\n",
       "    }\n",
       "\n",
       "    .dataframe thead th {\n",
       "        text-align: right;\n",
       "    }\n",
       "</style>\n",
       "<table border=\"1\" class=\"dataframe\">\n",
       "  <thead>\n",
       "    <tr style=\"text-align: right;\">\n",
       "      <th></th>\n",
       "      <th>Titular</th>\n",
       "      <th>URL</th>\n",
       "      <th>Meneos</th>\n",
       "      <th>Clicks</th>\n",
       "      <th>Negativos</th>\n",
       "      <th>Comentarios</th>\n",
       "      <th>Karma</th>\n",
       "      <th>Delay_horas</th>\n",
       "    </tr>\n",
       "  </thead>\n",
       "  <tbody>\n",
       "    <tr>\n",
       "      <th>1</th>\n",
       "      <td>El pelotazo de los curas salesianos con una pi...</td>\n",
       "      <td>https://old.meneame.net/story/pelotazo-curas-s...</td>\n",
       "      <td>73</td>\n",
       "      <td>336.0</td>\n",
       "      <td>3.0</td>\n",
       "      <td>20.0</td>\n",
       "      <td>441.0</td>\n",
       "      <td>Entre 1 y 3 horas</td>\n",
       "    </tr>\n",
       "    <tr>\n",
       "      <th>2</th>\n",
       "      <td>Países Bajos no participa en el segundo ensayo...</td>\n",
       "      <td>https://old.meneame.net/story/paises-bajos-no-...</td>\n",
       "      <td>123</td>\n",
       "      <td>1275.0</td>\n",
       "      <td>3.0</td>\n",
       "      <td>39.0</td>\n",
       "      <td>460.0</td>\n",
       "      <td>Menos de 1 hora</td>\n",
       "    </tr>\n",
       "    <tr>\n",
       "      <th>3</th>\n",
       "      <td>Todos los israelíes están entrenados en hasbar...</td>\n",
       "      <td>https://old.meneame.net/story/todos-israelies-...</td>\n",
       "      <td>117</td>\n",
       "      <td>1256.0</td>\n",
       "      <td>5.0</td>\n",
       "      <td>24.0</td>\n",
       "      <td>410.0</td>\n",
       "      <td>Entre 3 y 6 horas</td>\n",
       "    </tr>\n",
       "  </tbody>\n",
       "</table>\n",
       "</div>"
      ],
      "text/plain": [
       "                                             Titular  \\\n",
       "1  El pelotazo de los curas salesianos con una pi...   \n",
       "2  Países Bajos no participa en el segundo ensayo...   \n",
       "3  Todos los israelíes están entrenados en hasbar...   \n",
       "\n",
       "                                                 URL  Meneos  Clicks  \\\n",
       "1  https://old.meneame.net/story/pelotazo-curas-s...      73   336.0   \n",
       "2  https://old.meneame.net/story/paises-bajos-no-...     123  1275.0   \n",
       "3  https://old.meneame.net/story/todos-israelies-...     117  1256.0   \n",
       "\n",
       "   Negativos  Comentarios  Karma        Delay_horas  \n",
       "1        3.0         20.0  441.0  Entre 1 y 3 horas  \n",
       "2        3.0         39.0  460.0    Menos de 1 hora  \n",
       "3        5.0         24.0  410.0  Entre 3 y 6 horas  "
      ]
     },
     "execution_count": 57,
     "metadata": {},
     "output_type": "execute_result"
    }
   ],
   "source": [
    "df_tt.head(3)"
   ]
  },
  {
   "cell_type": "code",
   "execution_count": 58,
   "metadata": {},
   "outputs": [
    {
     "name": "stderr",
     "output_type": "stream",
     "text": [
      "C:\\Users\\deepi\\AppData\\Local\\Temp\\ipykernel_9184\\3928429369.py:7: FutureWarning:\n",
      "\n",
      "Downcasting behavior in `replace` is deprecated and will be removed in a future version. To retain the old behavior, explicitly call `result.infer_objects(copy=False)`. To opt-in to the future behavior, set `pd.set_option('future.no_silent_downcasting', True)`\n",
      "\n"
     ]
    },
    {
     "data": {
      "text/html": [
       "<div>\n",
       "<style scoped>\n",
       "    .dataframe tbody tr th:only-of-type {\n",
       "        vertical-align: middle;\n",
       "    }\n",
       "\n",
       "    .dataframe tbody tr th {\n",
       "        vertical-align: top;\n",
       "    }\n",
       "\n",
       "    .dataframe thead th {\n",
       "        text-align: right;\n",
       "    }\n",
       "</style>\n",
       "<table border=\"1\" class=\"dataframe\">\n",
       "  <thead>\n",
       "    <tr style=\"text-align: right;\">\n",
       "      <th></th>\n",
       "      <th>Titular</th>\n",
       "      <th>URL</th>\n",
       "      <th>Meneos</th>\n",
       "      <th>Clicks</th>\n",
       "      <th>Negativos</th>\n",
       "      <th>Comentarios</th>\n",
       "      <th>Karma</th>\n",
       "      <th>Delay_horas</th>\n",
       "      <th>Delay_labels</th>\n",
       "    </tr>\n",
       "  </thead>\n",
       "  <tbody>\n",
       "    <tr>\n",
       "      <th>1</th>\n",
       "      <td>El pelotazo de los curas salesianos con una pi...</td>\n",
       "      <td>https://old.meneame.net/story/pelotazo-curas-s...</td>\n",
       "      <td>73</td>\n",
       "      <td>336.0</td>\n",
       "      <td>3.0</td>\n",
       "      <td>20.0</td>\n",
       "      <td>441.0</td>\n",
       "      <td>Entre 1 y 3 horas</td>\n",
       "      <td>1</td>\n",
       "    </tr>\n",
       "    <tr>\n",
       "      <th>2</th>\n",
       "      <td>Países Bajos no participa en el segundo ensayo...</td>\n",
       "      <td>https://old.meneame.net/story/paises-bajos-no-...</td>\n",
       "      <td>123</td>\n",
       "      <td>1275.0</td>\n",
       "      <td>3.0</td>\n",
       "      <td>39.0</td>\n",
       "      <td>460.0</td>\n",
       "      <td>Menos de 1 hora</td>\n",
       "      <td>0</td>\n",
       "    </tr>\n",
       "    <tr>\n",
       "      <th>3</th>\n",
       "      <td>Todos los israelíes están entrenados en hasbar...</td>\n",
       "      <td>https://old.meneame.net/story/todos-israelies-...</td>\n",
       "      <td>117</td>\n",
       "      <td>1256.0</td>\n",
       "      <td>5.0</td>\n",
       "      <td>24.0</td>\n",
       "      <td>410.0</td>\n",
       "      <td>Entre 3 y 6 horas</td>\n",
       "      <td>2</td>\n",
       "    </tr>\n",
       "    <tr>\n",
       "      <th>4</th>\n",
       "      <td>Cuando Einstein llamó “fascistas” a los gobern...</td>\n",
       "      <td>https://old.meneame.net/story/cuando-einstein-...</td>\n",
       "      <td>260</td>\n",
       "      <td>415.0</td>\n",
       "      <td>2.0</td>\n",
       "      <td>17.0</td>\n",
       "      <td>461.0</td>\n",
       "      <td>Entre 6 y 9 horas</td>\n",
       "      <td>3</td>\n",
       "    </tr>\n",
       "    <tr>\n",
       "      <th>5</th>\n",
       "      <td>Vetiver: conoce qué es, para qué sirve, usos y...</td>\n",
       "      <td>https://old.meneame.net/story/vetiver-conoce-s...</td>\n",
       "      <td>64</td>\n",
       "      <td>595.0</td>\n",
       "      <td>1.0</td>\n",
       "      <td>34.0</td>\n",
       "      <td>436.0</td>\n",
       "      <td>Más de 9 horas</td>\n",
       "      <td>4</td>\n",
       "    </tr>\n",
       "  </tbody>\n",
       "</table>\n",
       "</div>"
      ],
      "text/plain": [
       "                                             Titular  \\\n",
       "1  El pelotazo de los curas salesianos con una pi...   \n",
       "2  Países Bajos no participa en el segundo ensayo...   \n",
       "3  Todos los israelíes están entrenados en hasbar...   \n",
       "4  Cuando Einstein llamó “fascistas” a los gobern...   \n",
       "5  Vetiver: conoce qué es, para qué sirve, usos y...   \n",
       "\n",
       "                                                 URL  Meneos  Clicks  \\\n",
       "1  https://old.meneame.net/story/pelotazo-curas-s...      73   336.0   \n",
       "2  https://old.meneame.net/story/paises-bajos-no-...     123  1275.0   \n",
       "3  https://old.meneame.net/story/todos-israelies-...     117  1256.0   \n",
       "4  https://old.meneame.net/story/cuando-einstein-...     260   415.0   \n",
       "5  https://old.meneame.net/story/vetiver-conoce-s...      64   595.0   \n",
       "\n",
       "   Negativos  Comentarios  Karma        Delay_horas  Delay_labels  \n",
       "1        3.0         20.0  441.0  Entre 1 y 3 horas             1  \n",
       "2        3.0         39.0  460.0    Menos de 1 hora             0  \n",
       "3        5.0         24.0  410.0  Entre 3 y 6 horas             2  \n",
       "4        2.0         17.0  461.0  Entre 6 y 9 horas             3  \n",
       "5        1.0         34.0  436.0     Más de 9 horas             4  "
      ]
     },
     "execution_count": 58,
     "metadata": {},
     "output_type": "execute_result"
    }
   ],
   "source": [
    "params = {\"Menos de 1 hora\" : 0,\n",
    "            \"Entre 1 y 3 horas\" : 1,\n",
    "            \"Entre 3 y 6 horas\" : 2,\n",
    "            \"Entre 6 y 9 horas\" : 3,\n",
    "            \"Más de 9 horas\" : 4}\n",
    "\n",
    "df_tt[\"Delay_labels\"] = df_tt[\"Delay_horas\"].replace(params)\n",
    "\n",
    "df_tt.head()"
   ]
  },
  {
   "cell_type": "code",
   "execution_count": 59,
   "metadata": {},
   "outputs": [],
   "source": [
    "modelos = [LinearRegression(),\n",
    "            KNeighborsRegressor(),\n",
    "            RadiusNeighborsRegressor(),\n",
    "            DecisionTreeRegressor(),\n",
    "            RandomForestRegressor(),\n",
    "            SVR(),\n",
    "            AdaBoostRegressor(),\n",
    "            GradientBoostingRegressor()]"
   ]
  },
  {
   "cell_type": "code",
   "execution_count": 61,
   "metadata": {},
   "outputs": [
    {
     "data": {
      "text/html": [
       "<div>\n",
       "<style scoped>\n",
       "    .dataframe tbody tr th:only-of-type {\n",
       "        vertical-align: middle;\n",
       "    }\n",
       "\n",
       "    .dataframe tbody tr th {\n",
       "        vertical-align: top;\n",
       "    }\n",
       "\n",
       "    .dataframe thead th {\n",
       "        text-align: right;\n",
       "    }\n",
       "</style>\n",
       "<table border=\"1\" class=\"dataframe\">\n",
       "  <thead>\n",
       "    <tr style=\"text-align: right;\">\n",
       "      <th></th>\n",
       "      <th>name</th>\n",
       "      <th>model</th>\n",
       "      <th>mae</th>\n",
       "      <th>mse</th>\n",
       "      <th>r2</th>\n",
       "    </tr>\n",
       "  </thead>\n",
       "  <tbody>\n",
       "    <tr>\n",
       "      <th>7</th>\n",
       "      <td>GradientBoostingRegressor</td>\n",
       "      <td>([DecisionTreeRegressor(criterion='friedman_ms...</td>\n",
       "      <td>2827.9553974</td>\n",
       "      <td>1.6965136e+07</td>\n",
       "      <td>0.1752962</td>\n",
       "    </tr>\n",
       "    <tr>\n",
       "      <th>0</th>\n",
       "      <td>LinearRegression</td>\n",
       "      <td>LinearRegression()</td>\n",
       "      <td>2950.5849943</td>\n",
       "      <td>1.7866804e+07</td>\n",
       "      <td>0.1314645</td>\n",
       "    </tr>\n",
       "    <tr>\n",
       "      <th>4</th>\n",
       "      <td>RandomForestRegressor</td>\n",
       "      <td>(DecisionTreeRegressor(max_features=1.0, rando...</td>\n",
       "      <td>2979.3863078</td>\n",
       "      <td>1.8306857e+07</td>\n",
       "      <td>0.1100729</td>\n",
       "    </tr>\n",
       "    <tr>\n",
       "      <th>2</th>\n",
       "      <td>RadiusNeighborsRegressor</td>\n",
       "      <td>RadiusNeighborsRegressor()</td>\n",
       "      <td>3161.1399709</td>\n",
       "      <td>2.0177475e+07</td>\n",
       "      <td>0.0191389</td>\n",
       "    </tr>\n",
       "    <tr>\n",
       "      <th>1</th>\n",
       "      <td>KNeighborsRegressor</td>\n",
       "      <td>KNeighborsRegressor()</td>\n",
       "      <td>3093.8661825</td>\n",
       "      <td>2.0429906e+07</td>\n",
       "      <td>0.0068679</td>\n",
       "    </tr>\n",
       "    <tr>\n",
       "      <th>5</th>\n",
       "      <td>SVR</td>\n",
       "      <td>SVR()</td>\n",
       "      <td>2773.3792699</td>\n",
       "      <td>2.0843156e+07</td>\n",
       "      <td>-0.0132209</td>\n",
       "    </tr>\n",
       "    <tr>\n",
       "      <th>6</th>\n",
       "      <td>AdaBoostRegressor</td>\n",
       "      <td>(DecisionTreeRegressor(max_depth=3, random_sta...</td>\n",
       "      <td>3898.6937745</td>\n",
       "      <td>2.3589310e+07</td>\n",
       "      <td>-0.1467161</td>\n",
       "    </tr>\n",
       "    <tr>\n",
       "      <th>3</th>\n",
       "      <td>DecisionTreeRegressor</td>\n",
       "      <td>DecisionTreeRegressor()</td>\n",
       "      <td>3989.7835048</td>\n",
       "      <td>3.6505250e+07</td>\n",
       "      <td>-0.7745817</td>\n",
       "    </tr>\n",
       "  </tbody>\n",
       "</table>\n",
       "</div>"
      ],
      "text/plain": [
       "                        name  \\\n",
       "7  GradientBoostingRegressor   \n",
       "0           LinearRegression   \n",
       "4      RandomForestRegressor   \n",
       "2   RadiusNeighborsRegressor   \n",
       "1        KNeighborsRegressor   \n",
       "5                        SVR   \n",
       "6          AdaBoostRegressor   \n",
       "3      DecisionTreeRegressor   \n",
       "\n",
       "                                               model           mae  \\\n",
       "7  ([DecisionTreeRegressor(criterion='friedman_ms...  2827.9553974   \n",
       "0                                 LinearRegression()  2950.5849943   \n",
       "4  (DecisionTreeRegressor(max_features=1.0, rando...  2979.3863078   \n",
       "2                         RadiusNeighborsRegressor()  3161.1399709   \n",
       "1                              KNeighborsRegressor()  3093.8661825   \n",
       "5                                              SVR()  2773.3792699   \n",
       "6  (DecisionTreeRegressor(max_depth=3, random_sta...  3898.6937745   \n",
       "3                            DecisionTreeRegressor()  3989.7835048   \n",
       "\n",
       "             mse         r2  \n",
       "7  1.6965136e+07  0.1752962  \n",
       "0  1.7866804e+07  0.1314645  \n",
       "4  1.8306857e+07  0.1100729  \n",
       "2  2.0177475e+07  0.0191389  \n",
       "1  2.0429906e+07  0.0068679  \n",
       "5  2.0843156e+07 -0.0132209  \n",
       "6  2.3589310e+07 -0.1467161  \n",
       "3  3.6505250e+07 -0.7745817  "
      ]
     },
     "execution_count": 61,
     "metadata": {},
     "output_type": "execute_result"
    }
   ],
   "source": [
    "# train, test split\n",
    "\n",
    "X = df_tt.iloc[:, 2:].drop([\"Clicks\", \"Delay_horas\"], axis = 1)\n",
    "y = df_tt[\"Clicks\"]\n",
    "\n",
    "X_train, X_test, y_train, y_test = train_test_split(X, y, test_size = 0.2, random_state=42)\n",
    "\n",
    "x_scaler = MinMaxScaler()\n",
    "X_train = x_scaler.fit_transform(X_train)\n",
    "X_test = x_scaler.transform(X_test)\n",
    "\n",
    "y_train = y_train.values.reshape(-1)\n",
    "y_test = y_test.values.reshape(-1)\n",
    "\n",
    "# y_scaler = MinMaxScaler()\n",
    "# y_train = y_scaler.fit_transform(y_train)\n",
    "# y_test = y_scaler.transform(y_test)\n",
    "\n",
    "datos_modelos = list()\n",
    "\n",
    "for model in modelos:\n",
    "\n",
    "    model.fit(X_train, y_train)\n",
    "    yhat = model.predict(X_test)\n",
    "\n",
    "    # y_test_inv = y_scaler.inverse_transform(y_test.reshape(-1, 1))\n",
    "    # yhat_inv = y_scaler.inverse_transform(yhat.reshape(-1, 1))\n",
    "\n",
    "    #Metricas\n",
    "    mae = mean_absolute_error(y_test, yhat)\n",
    "    mse = mean_squared_error(y_test, yhat)\n",
    "    r2 = r2_score(y_test, yhat)\n",
    "\n",
    "    datos_modelos.append([str(model).strip(\"()\"), model, mae, mse, r2])\n",
    "\n",
    "df_modelo = pd.DataFrame(data = datos_modelos, columns = [\"name\", \"model\", \"mae\", \"mse\", \"r2\"])\n",
    "\n",
    "df_modelo.sort_values(\"r2\", ascending = False)\n",
    "\n"
   ]
  },
  {
   "cell_type": "code",
   "execution_count": null,
   "metadata": {},
   "outputs": [],
   "source": []
  }
 ],
 "metadata": {
  "kernelspec": {
   "display_name": "base",
   "language": "python",
   "name": "python3"
  },
  "language_info": {
   "codemirror_mode": {
    "name": "ipython",
    "version": 3
   },
   "file_extension": ".py",
   "mimetype": "text/x-python",
   "name": "python",
   "nbconvert_exporter": "python",
   "pygments_lexer": "ipython3",
   "version": "3.11.8"
  }
 },
 "nbformat": 4,
 "nbformat_minor": 2
}
